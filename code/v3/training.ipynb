{
 "cells": [
  {
   "cell_type": "markdown",
   "metadata": {},
   "source": [
    "# V3: Heart Sound Classification using Pre-processed Wavelet Features\n",
    "\n",
    "This notebook implements a machine learning pipeline to classify heart sounds. It uses statistical features derived from **pre-processed Discrete Wavelet Transform (DWT) coefficients** stored in the `/wavelet` directory.\n",
    "\n",
    "The workflow is as follows:\n",
    "\n",
    "1.  **Configuration**: Set up paths and parameters.\n",
    "2.  **Load Labels**: Load all labels from the `REFERENCE.csv` files into a single dictionary.\n",
    "3.  **Load Data & Extract Features**: Load the `.npz` files from the `/wavelet` directory and compute statistical features from the DWT coefficients.\n",
    "4.  **Model Training**: Train a RandomForestClassifier on the extracted features.\n",
    "5.  **Evaluation**: Evaluate the model's performance using an accuracy score."
   ]
  },
  {
   "cell_type": "code",
   "execution_count": 1,
   "metadata": {},
   "outputs": [],
   "source": [
    "import os\n",
    "import numpy as np\n",
    "import pandas as pd\n",
    "import pywt\n",
    "from scipy.stats import skew, kurtosis\n",
    "from sklearn.model_selection import train_test_split\n",
    "from sklearn.preprocessing import StandardScaler\n",
    "from sklearn.ensemble import RandomForestClassifier\n",
    "from sklearn.metrics import accuracy_score\n",
    "\n",
    "# --- 1. Configuration ---\n",
    "# Adjust this path based on your Docker container's file structure\n",
    "BASE_PROJECT_DIR = '/workspace' \n",
    "WAVELET_DATA_DIR = os.path.join(BASE_PROJECT_DIR, 'wavelet')\n",
    "TRAINING_SETS = [f'training-{letter}' for letter in ['a', 'b', 'c', 'd', 'e', 'f']]"
   ]
  },
  {
   "cell_type": "code",
   "execution_count": 2,
   "metadata": {},
   "outputs": [
    {
     "name": "stdout",
     "output_type": "stream",
     "text": [
      "Loading labels from all training sets...\n",
      "Total labels loaded: 3240\n"
     ]
    }
   ],
   "source": [
    "# --- 2. Load All Labels ---\n",
    "all_labels_dict = {}\n",
    "print(\"Loading labels from all training sets...\")\n",
    "for set_id in TRAINING_SETS:\n",
    "    labels_path = os.path.join(BASE_PROJECT_DIR, set_id, 'REFERENCE.csv')\n",
    "    if not os.path.exists(labels_path):\n",
    "        print(f\"Labels file not found for {set_id}, skipping.\")\n",
    "        continue\n",
    "    \n",
    "    labels_df = pd.read_csv(labels_path, header=None, names=['filename', 'label'])\n",
    "    # Convert labels: -1 to 0 (abnormal), 1 to 1 (normal)\n",
    "    labels_df['label'] = labels_df['label'].apply(lambda x: 1 if x == 1 else 0)\n",
    "    # Add to the main dictionary\n",
    "    for index, row in labels_df.iterrows():\n",
    "        all_labels_dict[row['filename']] = row['label']\n",
    "\n",
    "print(f\"Total labels loaded: {len(all_labels_dict)}\")"
   ]
  },
  {
   "cell_type": "code",
   "execution_count": 4,
   "metadata": {},
   "outputs": [
    {
     "name": "stdout",
     "output_type": "stream",
     "text": [
      "Loading data from: /workspace/wavelet\n",
      "Feature extraction complete.\n"
     ]
    }
   ],
   "source": [
    "def extract_features_from_coeffs(coeffs_list):\n",
    "    \"\"\"Calculates statistical features from a list of coefficient arrays.\"\"\"\n",
    "    features = []\n",
    "    for coeffs in coeffs_list:\n",
    "        features.extend([\n",
    "            np.mean(coeffs),\n",
    "            np.std(coeffs),\n",
    "            skew(coeffs),\n",
    "            kurtosis(coeffs),\n",
    "            np.sum(np.square(coeffs)) # Energy\n",
    "        ])\n",
    "    return np.array(features)\n",
    "\n",
    "# --- 3. Load Data & Extract Features ---\n",
    "all_features = []\n",
    "all_labels = []\n",
    "\n",
    "print(f\"Loading data from: {WAVELET_DATA_DIR}\")\n",
    "for filename in sorted(os.listdir(WAVELET_DATA_DIR)):\n",
    "    if filename.endswith('.npz'):\n",
    "        file_id = os.path.splitext(filename)[0]\n",
    "        \n",
    "        # Ensure the label for this file exists\n",
    "        if file_id in all_labels_dict:\n",
    "            file_path = os.path.join(WAVELET_DATA_DIR, filename)\n",
    "            try:\n",
    "                # Load the pre-processed coefficients\n",
    "                with np.load(file_path) as data:\n",
    "                    cA = data['cA']\n",
    "                    cD = data['cD']\n",
    "                \n",
    "                # Extract statistical features\n",
    "                features = extract_features_from_coeffs([cA, cD])\n",
    "                \n",
    "                all_features.append(features)\n",
    "                all_labels.append(all_labels_dict[file_id])\n",
    "            except Exception as e:\n",
    "                print(f\"Error processing file {filename}: {e}\")\n",
    "\n",
    "print(\"Feature extraction complete.\")"
   ]
  },
  {
   "cell_type": "code",
   "execution_count": 5,
   "metadata": {},
   "outputs": [
    {
     "name": "stdout",
     "output_type": "stream",
     "text": [
      "Total samples: 3240, Features per sample: 10\n",
      "Model training complete.\n"
     ]
    }
   ],
   "source": [
    "# --- 4. Model Training ---\n",
    "X = np.array(all_features)\n",
    "y = np.array(all_labels)\n",
    "\n",
    "if X.shape[0] > 0:\n",
    "    print(f\"Total samples: {X.shape[0]}, Features per sample: {X.shape[1]}\")\n",
    "\n",
    "    # Split data into training and testing sets\n",
    "    X_train, X_test, y_train, y_test = train_test_split(X, y, test_size=0.2, random_state=42, stratify=y)\n",
    "\n",
    "    # Scale features\n",
    "    scaler = StandardScaler()\n",
    "    X_train_scaled = scaler.fit_transform(X_train)\n",
    "    X_test_scaled = scaler.transform(X_test)\n",
    "\n",
    "    # Train RandomForest model\n",
    "    model = RandomForestClassifier(n_estimators=100, random_state=42, n_jobs=-1)\n",
    "    model.fit(X_train_scaled, y_train)\n",
    "\n",
    "    print(\"Model training complete.\")\n",
    "else:\n",
    "    print(\"No features were loaded. Please check the data paths and file contents.\")"
   ]
  },
  {
   "cell_type": "code",
   "execution_count": 6,
   "metadata": {},
   "outputs": [
    {
     "name": "stdout",
     "output_type": "stream",
     "text": [
      "--- Model Evaluation ---\n",
      "Model Accuracy: 92.13%\n"
     ]
    }
   ],
   "source": [
    "# --- 5. Evaluation ---\n",
    "if X.shape[0] > 0:\n",
    "    y_pred = model.predict(X_test_scaled)\n",
    "    accuracy = accuracy_score(y_test, y_pred)\n",
    "\n",
    "    print(f\"--- Model Evaluation ---\")\n",
    "    print(f\"Model Accuracy: {accuracy * 100:.2f}%\")\n",
    "else:\n",
    "    print(\"Cannot evaluate model as no data was loaded.\")"
   ]
  }
 ],
 "metadata": {
  "kernelspec": {
   "display_name": "Python 3",
   "language": "python",
   "name": "python3"
  },
  "language_info": {
   "codemirror_mode": {
    "name": "ipython",
    "version": 3
   },
   "file_extension": ".py",
   "mimetype": "text/x-python",
   "name": "python",
   "nbconvert_exporter": "python",
   "pygments_lexer": "ipython3",
   "version": "3.10.17"
  }
 },
 "nbformat": 4,
 "nbformat_minor": 4
}
